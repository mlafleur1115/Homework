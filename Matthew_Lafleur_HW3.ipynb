{
 "cells": [
  {
   "cell_type": "markdown",
   "metadata": {},
   "source": [
    "***CHE 4230 Homework 4***\n",
    "\n",
    "UNSUPERVISED LEARNING \n",
    "\n",
    "Instructions: Perform PCA manually using numpy functions and then compare the results using the PCA package from scikit-learn."
   ]
  },
  {
   "cell_type": "code",
   "execution_count": null,
   "metadata": {},
   "outputs": [],
   "source": [
    "'''\n",
    "First, make sure you have the following installed:\n",
    "\n",
    "##################################################\n",
    "pip install numpy\n",
    "pip install matplotlib\n",
    "pip install pandas\n",
    "pip install scikit-learn\n",
    "##################################################\n",
    "\n",
    "'''"
   ]
  },
  {
   "cell_type": "markdown",
   "metadata": {},
   "source": [
    "***1. Import needed python packages.***"
   ]
  },
  {
   "cell_type": "code",
   "execution_count": 26,
   "metadata": {},
   "outputs": [],
   "source": [
    "import numpy as np\n",
    "import matplotlib.pyplot as plt\n",
    "from sklearn.datasets import load_iris\n",
    "from sklearn.preprocessing import StandardScaler\n",
    "from sklearn.decomposition import PCA"
   ]
  },
  {
   "cell_type": "markdown",
   "metadata": {},
   "source": [
    "***2. Load the 'iris' dataset from scikit-learn. It is a popular dataset for classifying flower types based on sepal length, sepal width, petal length, and petal width.***"
   ]
  },
  {
   "cell_type": "code",
   "execution_count": null,
   "metadata": {},
   "outputs": [],
   "source": [
    "# Load the Iris dataset\n",
    "iris = load_iris()\n",
    "print(iris.DESCR)\n",
    "X = iris.data\n",
    "y = iris.target"
   ]
  },
  {
   "cell_type": "markdown",
   "metadata": {},
   "source": [
    "***3. Standardize the features of the dataset.***"
   ]
  },
  {
   "cell_type": "code",
   "execution_count": 28,
   "metadata": {},
   "outputs": [],
   "source": [
    "# Standardize the dataset\n",
    "scaler = StandardScaler()\n",
    "X_standardized = scaler.fit_transform(X)"
   ]
  },
  {
   "cell_type": "markdown",
   "metadata": {},
   "source": [
    "***4. Manually perform Principal Component Analysis (PCA) using numpy functions.***"
   ]
  },
  {
   "cell_type": "markdown",
   "metadata": {},
   "source": [
    "**Step 1- Compute the covariance matrix**"
   ]
  },
  {
   "cell_type": "markdown",
   "metadata": {},
   "source": [
    "~ use np.cov()"
   ]
  },
  {
   "cell_type": "markdown",
   "metadata": {},
   "source": [
    "~ make sure the data inside of np.cov() is transposed (adding \".T\")"
   ]
  },
  {
   "cell_type": "markdown",
   "metadata": {},
   "source": [
    "~ Ex. (covariance_matrix = np.cov(X_standardized.T))"
   ]
  },
  {
   "cell_type": "code",
   "execution_count": 29,
   "metadata": {},
   "outputs": [],
   "source": [
    "# Step 1: Find the covariance matrix\n",
    "\n",
    "# cov_matrix = ..."
   ]
  },
  {
   "cell_type": "markdown",
   "metadata": {},
   "source": [
    "**Step 2- Compute the eigenvalues and eigenvectors of the covariance matrix**"
   ]
  },
  {
   "cell_type": "markdown",
   "metadata": {},
   "source": [
    "~ use np.linalg.eig(cov_matrix)"
   ]
  },
  {
   "cell_type": "code",
   "execution_count": null,
   "metadata": {},
   "outputs": [],
   "source": [
    "# Step 2: Find the eigenvalues and eigenvectors of the covariance matrix\n",
    "\n",
    "# eigenvalues, eigenvectors = .....\n",
    "\n",
    "# print('Eigenvalues:', eigenvalues)\n",
    "# print('Eigenvectors:', eigenvectors)"
   ]
  },
  {
   "cell_type": "markdown",
   "metadata": {},
   "source": [
    "**Step 3- Sort the eigen values in descending order.**"
   ]
  },
  {
   "cell_type": "markdown",
   "metadata": {},
   "source": [
    "~ np.argsort() sorts in ascending order, adding np.argsort(eigenvalues)[::-1] sorts in descending order"
   ]
  },
  {
   "cell_type": "markdown",
   "metadata": {},
   "source": [
    "~ the eigen values represent the amount of variance captured by each principal component"
   ]
  },
  {
   "cell_type": "markdown",
   "metadata": {},
   "source": [
    "~ each column of the eigen vectors corresponds to the eigen values. if you reorder the eigen values, you have to reorder the columns of the eigen vectors in the same way."
   ]
  },
  {
   "cell_type": "code",
   "execution_count": null,
   "metadata": {},
   "outputs": [],
   "source": [
    "# Step 3: Sort eigenvalues and eigenvectors in descending order\n",
    "\n",
    "''' Use this code to help sort your eigenvalues and eigenvectors. make sure that you have eigenvalues and eigenvectors defined. '''\n",
    "\n",
    "# sorted_indices = np.argsort(eigenvalues)[::-1]\n",
    "# eigenvalues = eigenvalues[sorted_indices]\n",
    "# eigenvectors = eigenvectors[:, sorted_indices]\n",
    "\n",
    "# print('Sorted Eigenvalues:', eigenvalues)\n",
    "# print('Sorted Eigenvectors:', eigenvectors)"
   ]
  },
  {
   "cell_type": "markdown",
   "metadata": {},
   "source": [
    "**Step 4- Transfrom the scaled data using the top two eigen vectors**"
   ]
  },
  {
   "cell_type": "markdown",
   "metadata": {},
   "source": [
    "~ Hint: X_pca_manual = X_standardized @ eigenvectors[:, :2]"
   ]
  },
  {
   "cell_type": "code",
   "execution_count": 32,
   "metadata": {},
   "outputs": [],
   "source": [
    "# Step 4: Transform the data to the new subspace\n",
    "\n",
    "# X_pca_manual = ..."
   ]
  },
  {
   "cell_type": "markdown",
   "metadata": {},
   "source": [
    "***4. Perform PCA using scikit-learn package***"
   ]
  },
  {
   "cell_type": "code",
   "execution_count": 33,
   "metadata": {},
   "outputs": [],
   "source": [
    "# Perform PCA using scikit-learn\n",
    "\n",
    "# First, create a PCA object --> pca = PCA(n_components=2), then use pca.fit_transform() to transform the data\n",
    "\n",
    "# pca = ...\n",
    "# X_pca_sklearn = ..."
   ]
  },
  {
   "cell_type": "markdown",
   "metadata": {},
   "source": [
    "***5. Compare the results of the manaul PCA vs the scikit-learn PCA***"
   ]
  },
  {
   "cell_type": "code",
   "execution_count": null,
   "metadata": {},
   "outputs": [],
   "source": [
    "# Plot for comparing manual and scikit-learn PCA\n",
    "\n",
    "'''you can use this code to help make your plots. make sure you have X_pca_manual and X_pca_sklearn defined. '''\n",
    "\n",
    "# fig, ax = plt.subplots(1, 2, figsize=(12, 5))\n",
    "# ax[0].scatter(X_pca_manual[:, 0], X_pca_manual[:, 1], c=y, cmap='viridis', edgecolor='k')\n",
    "# ax[0].set_title('Manual PCA')\n",
    "# ax[1].scatter(X_pca_sklearn[:, 0], X_pca_sklearn[:, 1], c=y, cmap='viridis', edgecolor='k')\n",
    "# ax[1].set_title('Scikit-learn PCA')\n",
    "# plt.show()"
   ]
  },
  {
   "cell_type": "markdown",
   "metadata": {},
   "source": [
    "*If you have any questions, reach out to Kyle. I hope y'all found this part of the course interesting!*"
   ]
  },
  {
   "cell_type": "markdown",
   "metadata": {},
   "source": [
    "**When turing in the notebooks on Moodle, please name the notebook your name.**"
   ]
  }
 ],
 "metadata": {
  "kernelspec": {
   "display_name": "env",
   "language": "python",
   "name": "python3"
  },
  "language_info": {
   "codemirror_mode": {
    "name": "ipython",
    "version": 3
   },
   "file_extension": ".py",
   "mimetype": "text/x-python",
   "name": "python",
   "nbconvert_exporter": "python",
   "pygments_lexer": "ipython3",
   "version": "3.11.0"
  }
 },
 "nbformat": 4,
 "nbformat_minor": 2
}
