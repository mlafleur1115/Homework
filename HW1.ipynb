{
 "cells": [
  {
   "cell_type": "markdown",
   "metadata": {},
   "source": [
    "# Assignment 1"
   ]
  },
  {
   "cell_type": "markdown",
   "metadata": {},
   "source": [
    "### #2"
   ]
  },
  {
   "cell_type": "markdown",
   "metadata": {},
   "source": [
    "list_a = [3, 4, 6, 10, 39, 87, 12, 54]\n",
    "\n",
    "(a) Find the maximum, minimum, and summation number of the list\n",
    "(b) Sort the list in ascending order\n",
    "(c) Write a for loop to print each element in list_a"
   ]
  },
  {
   "cell_type": "code",
   "execution_count": 1,
   "metadata": {},
   "outputs": [
    {
     "data": {
      "text/plain": [
       "87"
      ]
     },
     "execution_count": 1,
     "metadata": {},
     "output_type": "execute_result"
    }
   ],
   "source": [
    "list_A = [3,4,6,10,39,87,12,54]\n",
    "\n",
    "max(list_A)"
   ]
  },
  {
   "cell_type": "code",
   "execution_count": 2,
   "metadata": {},
   "outputs": [
    {
     "data": {
      "text/plain": [
       "3"
      ]
     },
     "execution_count": 2,
     "metadata": {},
     "output_type": "execute_result"
    }
   ],
   "source": [
    "min(list_A)"
   ]
  },
  {
   "cell_type": "code",
   "execution_count": 3,
   "metadata": {},
   "outputs": [
    {
     "data": {
      "text/plain": [
       "215"
      ]
     },
     "execution_count": 3,
     "metadata": {},
     "output_type": "execute_result"
    }
   ],
   "source": [
    "sum(list_A)"
   ]
  },
  {
   "cell_type": "code",
   "execution_count": 4,
   "metadata": {},
   "outputs": [
    {
     "name": "stdout",
     "output_type": "stream",
     "text": [
      "[3, 4, 6, 10, 12, 39, 54, 87]\n"
     ]
    }
   ],
   "source": [
    "list_A.sort()\n",
    "print(list_A)"
   ]
  },
  {
   "cell_type": "code",
   "execution_count": 5,
   "metadata": {},
   "outputs": [
    {
     "name": "stdout",
     "output_type": "stream",
     "text": [
      "3\n",
      "4\n",
      "6\n",
      "10\n",
      "12\n",
      "39\n",
      "54\n",
      "87\n"
     ]
    }
   ],
   "source": [
    "for num in list_A:\n",
    "    print(num)"
   ]
  },
  {
   "cell_type": "code",
   "execution_count": 6,
   "metadata": {},
   "outputs": [
    {
     "name": "stdout",
     "output_type": "stream",
     "text": [
      "3\n",
      "4\n",
      "6\n",
      "10\n",
      "39\n",
      "87\n",
      "12\n",
      "54\n"
     ]
    }
   ],
   "source": [
    "list_A = [3,4,6,10,39,87,12,54]\n",
    "\n",
    "for num in list_A:\n",
    "    print(num)"
   ]
  },
  {
   "cell_type": "markdown",
   "metadata": {},
   "source": [
    "### #3"
   ]
  },
  {
   "cell_type": "markdown",
   "metadata": {},
   "source": [
    "A prime number is a whole number greater than 1 whose only factors are 1 and itself. A factor is a whole number that can be divided evenly into another number. \n",
    "\n",
    "(a) Based on the definition of prime number, define a function to determine whether an input integer is a prime number or not\n",
    "(b) Find all prime numbers below 100\n",
    "(c) Define a function to find all prime numbers below a custom-defined number, n\n",
    "(d) Call your defined function to find all prime numbers with n = 1000\n"
   ]
  },
  {
   "cell_type": "code",
   "execution_count": 7,
   "metadata": {},
   "outputs": [],
   "source": [
    "def isitprime(k):\n",
    "    if k <= 1:\n",
    "        return False\n",
    "    if k == 2:\n",
    "        return True\n",
    "    if k % 2 == 0:\n",
    "        return False\n",
    "    \n",
    "    # accounting for numbers less than 1, even numbers, and 2 being prime number\n",
    "\n",
    "    for i in range(3,int(k ** 0.5) + 1, 2):\n",
    "        if k % i == 0:\n",
    "            return False\n",
    "    return True\n",
    "\n",
    "    # checks halfway up number to see if any remainder is 0\n",
    "    # if yes then its not prime, if not then its prime\n",
    "    \n",
    "    if isitprime(n):\n",
    "        print(f\"{number} is prime\")\n",
    "    else:\n",
    "        print(f\"{number} is not a prime number\")"
   ]
  },
  {
   "cell_type": "code",
   "execution_count": 8,
   "metadata": {},
   "outputs": [
    {
     "data": {
      "text/plain": [
       "False"
      ]
     },
     "execution_count": 8,
     "metadata": {},
     "output_type": "execute_result"
    }
   ],
   "source": [
    "isitprime(18)"
   ]
  },
  {
   "cell_type": "code",
   "execution_count": 9,
   "metadata": {},
   "outputs": [
    {
     "data": {
      "text/plain": [
       "True"
      ]
     },
     "execution_count": 9,
     "metadata": {},
     "output_type": "execute_result"
    }
   ],
   "source": [
    "isitprime(7)"
   ]
  },
  {
   "cell_type": "code",
   "execution_count": 10,
   "metadata": {},
   "outputs": [
    {
     "name": "stdout",
     "output_type": "stream",
     "text": [
      "2\n",
      "3\n",
      "5\n",
      "7\n",
      "11\n",
      "13\n",
      "17\n",
      "19\n",
      "23\n",
      "29\n",
      "31\n",
      "37\n",
      "41\n",
      "43\n",
      "47\n",
      "53\n",
      "59\n",
      "61\n",
      "67\n",
      "71\n",
      "73\n",
      "79\n",
      "83\n",
      "89\n",
      "97\n"
     ]
    }
   ],
   "source": [
    "for j in range(1,100):\n",
    "    if isitprime(j):\n",
    "        print(j)"
   ]
  },
  {
   "cell_type": "code",
   "execution_count": 11,
   "metadata": {},
   "outputs": [
    {
     "name": "stdout",
     "output_type": "stream",
     "text": [
      "[2, 3, 5, 7, 11, 13, 17, 19, 23, 29, 31, 37, 41, 43, 47, 53, 59, 61, 67, 71, 73, 79, 83, 89, 97, 101, 103, 107, 109, 113, 127, 131, 137, 139, 149, 151, 157, 163, 167, 173, 179, 181, 191, 193, 197, 199, 211, 223, 227, 229, 233, 239, 241, 251, 257, 263, 269, 271, 277, 281, 283, 293, 307, 311, 313, 317, 331, 337, 347, 349, 353, 359, 367, 373, 379, 383, 389, 397, 401, 409, 419, 421, 431, 433, 439, 443, 449, 457, 461, 463, 467, 479, 487, 491, 499, 503, 509, 521, 523, 541, 547, 557, 563, 569, 571, 577, 587, 593, 599, 601, 607, 613, 617, 619, 631, 641, 643, 647, 653, 659, 661, 673, 677, 683, 691, 701, 709, 719, 727, 733, 739, 743, 751, 757, 761, 769, 773, 787, 797, 809, 811, 821, 823, 827, 829, 839, 853, 857, 859, 863, 877, 881, 883, 887, 907, 911, 919, 929, 937, 941, 947, 953, 967, 971, 977, 983, 991, 997]\n"
     ]
    }
   ],
   "source": [
    "def prime_finder(n):\n",
    "    return [k for k in range(2,n) if isitprime(k)]\n",
    "\n",
    "prime_found = prime_finder(1000)\n",
    "print(prime_found)"
   ]
  },
  {
   "cell_type": "markdown",
   "metadata": {},
   "source": [
    "### #4"
   ]
  },
  {
   "cell_type": "markdown",
   "metadata": {},
   "source": [
    "(a) Define a function to output a 3D (n×3×3) numpy array, where n is the input value (argument) of the function to control the length of the array, and data is the input value that determines what kind of data it contains\n",
    "(b) Call the function for n=10 and populate the array with zeroes\n",
    "(c) Call the function for n=5 and populate the array with random numbers between 1 and 100"
   ]
  },
  {
   "cell_type": "code",
   "execution_count": 12,
   "metadata": {},
   "outputs": [
    {
     "name": "stdout",
     "output_type": "stream",
     "text": [
      "[[[0. 0. 0.]\n",
      "  [0. 0. 0.]\n",
      "  [0. 0. 0.]]\n",
      "\n",
      " [[0. 0. 0.]\n",
      "  [0. 0. 0.]\n",
      "  [0. 0. 0.]]\n",
      "\n",
      " [[0. 0. 0.]\n",
      "  [0. 0. 0.]\n",
      "  [0. 0. 0.]]\n",
      "\n",
      " [[0. 0. 0.]\n",
      "  [0. 0. 0.]\n",
      "  [0. 0. 0.]]\n",
      "\n",
      " [[0. 0. 0.]\n",
      "  [0. 0. 0.]\n",
      "  [0. 0. 0.]]\n",
      "\n",
      " [[0. 0. 0.]\n",
      "  [0. 0. 0.]\n",
      "  [0. 0. 0.]]\n",
      "\n",
      " [[0. 0. 0.]\n",
      "  [0. 0. 0.]\n",
      "  [0. 0. 0.]]\n",
      "\n",
      " [[0. 0. 0.]\n",
      "  [0. 0. 0.]\n",
      "  [0. 0. 0.]]\n",
      "\n",
      " [[0. 0. 0.]\n",
      "  [0. 0. 0.]\n",
      "  [0. 0. 0.]]\n",
      "\n",
      " [[0. 0. 0.]\n",
      "  [0. 0. 0.]\n",
      "  [0. 0. 0.]]]\n"
     ]
    }
   ],
   "source": [
    "import numpy as np\n",
    "\n",
    "def my3darray(n,data):\n",
    "    if data == 'zeros':\n",
    "            return np.zeros((n,3,3))\n",
    "    elif data == 'random':\n",
    "          return np.random.randint(1,100, (n,3,3))\n",
    "    else:\n",
    "          raise ValueError(\"invalid\")\n",
    "    \n",
    "zero_array = my3darray(10, 'zeros')\n",
    "print(zero_array)"
   ]
  },
  {
   "cell_type": "code",
   "execution_count": 13,
   "metadata": {},
   "outputs": [
    {
     "name": "stdout",
     "output_type": "stream",
     "text": [
      "[[[73 99 36]\n",
      "  [48 96 60]\n",
      "  [70 98 53]]\n",
      "\n",
      " [[16  3 43]\n",
      "  [82 41 49]\n",
      "  [53 11 53]]\n",
      "\n",
      " [[66 56 61]\n",
      "  [64 39 70]\n",
      "  [ 3 43 92]]\n",
      "\n",
      " [[97 94 21]\n",
      "  [75 84 46]\n",
      "  [82 44 12]]\n",
      "\n",
      " [[99  8 22]\n",
      "  [75  4 60]\n",
      "  [88 89 74]]]\n"
     ]
    }
   ],
   "source": [
    "random_array = my3darray(5, 'random')\n",
    "print(random_array)"
   ]
  },
  {
   "cell_type": "markdown",
   "metadata": {},
   "source": [
    "### #5"
   ]
  },
  {
   "cell_type": "markdown",
   "metadata": {},
   "source": [
    "Solve following set of equations using linear algebra and numpy.\n",
    "\n",
    "3a + 4b -5c = 10\n",
    "5b + c = 8\n",
    "a + 3b + 6c = -5"
   ]
  },
  {
   "cell_type": "code",
   "execution_count": 14,
   "metadata": {},
   "outputs": [
    {
     "name": "stdout",
     "output_type": "stream",
     "text": [
      "[[-1.7]\n",
      " [ 1.9]\n",
      " [-1.5]]\n"
     ]
    }
   ],
   "source": [
    "import numpy as np\n",
    "\n",
    "A = np.matrix([\n",
    "        [3,4,-5],\n",
    "        [0,5,1],\n",
    "        [1,3,6]\n",
    "        ])\n",
    "\n",
    "B = np.matrix([\n",
    "        [10],\n",
    "        [8],\n",
    "        [-5]\n",
    "        ])\n",
    "\n",
    "X = np.dot(np.linalg.inv(A),(B))\n",
    "print(X)\n"
   ]
  },
  {
   "cell_type": "markdown",
   "metadata": {},
   "source": [
    "### #6"
   ]
  },
  {
   "cell_type": "markdown",
   "metadata": {},
   "source": [
    "Given an expression:\n",
    "\n",
    "y = 0.1x^3-x^2+5\n",
    "\n",
    "(a) Plot the function in the range of x from -5 to 5\n",
    "(b) Find the maximum and minimum value of this function and add them with points and labels on the same figure"
   ]
  },
  {
   "cell_type": "code",
   "execution_count": null,
   "metadata": {},
   "outputs": [
    {
     "data": {
      "image/png": "[encoded data removed]",
      "text/plain": [
       "<Figure size 640x480 with 1 Axes>"
      ]
     },
     "metadata": {},
     "output_type": "display_data"
    }
   ],
   "source": [
    "import matplotlib.pyplot as plt\n",
    "import numpy as np\n",
    "from scipy.optimize import fsolve\n",
    "\n",
    "def equation(x):\n",
    "    return 0.1 * x**3 - x**2 +5\n",
    "\n",
    "\n",
    "xvalues = np.linspace(-5,5,11)\n",
    "yvalues = equation(xvalues)\n",
    "\n",
    "plt.scatter(x = xvalues, y = yvalues)\n",
    "plt.xlabel('X')\n",
    "plt.ylabel('y')\n",
    "plt.title('Homework #6')\n",
    "plt.grid()\n",
    "\n",
    "def derivative(x):\n",
    "    return 0.3 * x**2 - 2 * x\n",
    "\n",
    "def derivative2(x):\n",
    "    return 0.6 * x -2   \n",
    "\n",
    "critical_points = fsolve(derivative, [-1,1])\n",
    "critical_values = [equation(x) for x in critical_points]\n",
    "\n",
    "for x_val, y_val in zip(critical_points, critical_values):\n",
    "    if derivative2(x_val) > 0:\n",
    "        label = 'min'\n",
    "    else:\n",
    "        label = 'max'\n",
    "    \n",
    "    plt.scatter(x_val, y_val, color = 'red')\n",
    "    plt.text(x_val, y_val, label)\n",
    "    "
   ]
  }
 ],
 "metadata": {
  "kernelspec": {
   "display_name": "env",
   "language": "python",
   "name": "python3"
  },
  "language_info": {
   "codemirror_mode": {
    "name": "ipython",
    "version": 3
   },
   "file_extension": ".py",
   "mimetype": "text/x-python",
   "name": "python",
   "nbconvert_exporter": "python",
   "pygments_lexer": "ipython3",
   "version": "3.13.2"
  }
 },
 "nbformat": 4,
 "nbformat_minor": 2
}
